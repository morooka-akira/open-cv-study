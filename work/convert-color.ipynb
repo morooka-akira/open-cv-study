{
 "cells": [
  {
   "cell_type": "code",
   "execution_count": 12,
   "metadata": {},
   "outputs": [],
   "source": [
    "import cv2 as cv\n",
    "import matplotlib.pyplot as plt\n",
    "import numpy as np\n",
    "\n",
    "%matplotlib inline"
   ]
  },
  {
   "cell_type": "markdown",
   "metadata": {},
   "source": [
    "# OpenCVで使える色空間\n",
    "\n",
    "色変換には基本的に `cv2.cvtColor(input_image, flag)`を使う。\n",
    "\n",
    "BGR -> Grayへの変換は、 `cv2.COLOR_BGR2GRAY`\n",
    "BGR -> HSVへの変換は、 `cv2.COLOR_BGR2HSV`\n",
    "\n",
    "HSV\n",
    "---\n",
    "\n",
    "- Hue: 色相(0~179)\n",
    "- Saturation: 彩度(0~255)\n",
    "- Value: 明度(0~255)\n"
   ]
  },
  {
   "cell_type": "code",
   "execution_count": 10,
   "metadata": {},
   "outputs": [],
   "source": [
    "# その他のフラグ\n",
    "flags = [i for i in dir(cv) if i.startswith(\"COLOR_\")]\n",
    "#print(flags)"
   ]
  },
  {
   "cell_type": "code",
   "execution_count": 15,
   "metadata": {},
   "outputs": [
    {
     "name": "stdout",
     "output_type": "stream",
     "text": [
      "[[[ 60 255 255]]]\n"
     ]
    }
   ],
   "source": [
    "# BGRからHSVの変換\n",
    "green = np.uint8([[[0,255,0]]])\n",
    "hsv_green = cv.cvtColor(green, cv.COLOR_BGR2HSV)\n",
    "print(hsv_green)"
   ]
  }
 ],
 "metadata": {
  "kernelspec": {
   "display_name": "Python 3",
   "language": "python",
   "name": "python3"
  },
  "language_info": {
   "codemirror_mode": {
    "name": "ipython",
    "version": 3
   },
   "file_extension": ".py",
   "mimetype": "text/x-python",
   "name": "python",
   "nbconvert_exporter": "python",
   "pygments_lexer": "ipython3",
   "version": "3.8.4"
  }
 },
 "nbformat": 4,
 "nbformat_minor": 4
}
